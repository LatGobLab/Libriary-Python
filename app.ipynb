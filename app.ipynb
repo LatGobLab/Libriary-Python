{
 "cells": [
  {
   "cell_type": "code",
   "execution_count": null,
   "metadata": {},
   "outputs": [],
   "source": [
    "# %pip install python-decouple langchain_community pypdf langchain_pinecone langchain_openai pinecone langchain"
   ]
  },
  {
   "cell_type": "code",
   "execution_count": 1,
   "metadata": {},
   "outputs": [],
   "source": [
    "from decouple import config\n",
    "from langchain_openai.chat_models import ChatOpenAI\n",
    "from langchain_openai import OpenAIEmbeddings\n",
    "from pinecone import Pinecone, ServerlessSpec\n",
    "\n",
    "from langchain.text_splitter import RecursiveCharacterTextSplitter\n",
    "\n",
    "from langchain.prompts import PromptTemplate\n",
    "from langchain.chains import RetrievalQA\n",
    "\n",
    "from langchain_community.document_loaders import PyPDFDirectoryLoader\n",
    "\n",
    "from langchain_pinecone import PineconeVectorStore\n",
    "import time"
   ]
  },
  {
   "cell_type": "code",
   "execution_count": 2,
   "metadata": {},
   "outputs": [],
   "source": [
    "OPENAI_API_KEY = config('OPENAI_API_KEY')\n",
    "PINECONE_API_KEY= config('PINECONE_API_KEY')"
   ]
  },
  {
   "cell_type": "code",
   "execution_count": 3,
   "metadata": {},
   "outputs": [
    {
     "name": "stdout",
     "output_type": "stream",
     "text": [
      "tamano de documentos: 10\n",
      "tamano de chunks: 41\n"
     ]
    }
   ],
   "source": [
    "def load_documents(directory):\n",
    "    documentPDF = PyPDFDirectoryLoader(directory)\n",
    "    documents = documentPDF.load()\n",
    "    return documents\n",
    "\n",
    "def chunk_data(docs, chunk_size=800, overlap=100):\n",
    "    text_spliter = RecursiveCharacterTextSplitter(\n",
    "        chunk_size=chunk_size,\n",
    "        chunk_overlap=overlap\n",
    "        )\n",
    "    return text_spliter.split_documents(docs)\n",
    "\n",
    "\n",
    "documents = load_documents('./')\n",
    "print(f\"tamano de documentos: {len(documents)}\")\n",
    "\n",
    "chunks = chunk_data(documents)\n",
    "print(f\"tamano de chunks: {len(chunks)}\")\n"
   ]
  },
  {
   "cell_type": "code",
   "execution_count": 4,
   "metadata": {},
   "outputs": [],
   "source": [
    "model_name = \"text-embedding-3-small\"  \n",
    "embeddings = OpenAIEmbeddings(  \n",
    "    model=model_name,  \n",
    "    openai_api_key=OPENAI_API_KEY \n",
    ")  "
   ]
  },
  {
   "cell_type": "code",
   "execution_count": 5,
   "metadata": {},
   "outputs": [],
   "source": [
    "pc = Pinecone(api_key=PINECONE_API_KEY)\n",
    "\n",
    "index_name = \"test-index\"\n",
    "\n",
    "if index_name not in pc.list_indexes().names():\n",
    "    pc.create_index(\n",
    "        name=index_name,\n",
    "        dimension=1536, \n",
    "        metric=\"cosine\", \n",
    "        spec=ServerlessSpec(\n",
    "            cloud=\"aws\",\n",
    "            region=\"us-east-1\"\n",
    "        ) \n",
    "    ) "
   ]
  },
  {
   "cell_type": "code",
   "execution_count": 7,
   "metadata": {},
   "outputs": [],
   "source": [
    "namespace = \"empresa-1\"\n",
    "\n",
    "docsearch = PineconeVectorStore.from_documents(\n",
    "    documents=chunks,\n",
    "    index_name=index_name,\n",
    "    embedding=embeddings, \n",
    "    namespace=namespace \n",
    ")\n",
    "\n",
    "time.sleep(1)"
   ]
  },
  {
   "cell_type": "code",
   "execution_count": 9,
   "metadata": {},
   "outputs": [
    {
     "name": "stdout",
     "output_type": "stream",
     "text": [
      "{'dimension': 1536,\n",
      " 'index_fullness': 0.0,\n",
      " 'namespaces': {'empresa-1': {'vector_count': 41}},\n",
      " 'total_vector_count': 41}\n"
     ]
    }
   ],
   "source": [
    "index = pc.Index(index_name)\n",
    "print(index.describe_index_stats())"
   ]
  },
  {
   "cell_type": "code",
   "execution_count": 10,
   "metadata": {},
   "outputs": [],
   "source": [
    "def get_prompt(instruction, new_system_prompt ):\n",
    "    SYSTEM_PROMPT = B_SYS + new_system_prompt + E_SYS\n",
    "    prompt_template =  B_INST + SYSTEM_PROMPT + instruction + E_INST\n",
    "    return prompt_template\n",
    "\n",
    "B_INST, E_INST = \"[INST]\", \"[/INST]\"\n",
    "B_SYS, E_SYS = \"<<SYS>>\\n\", \"\\n<</SYS>>\\n\\n\"\n",
    "\n",
    "sys_prompt = \"\"\"You are a helpful, respectful, and honest assistant. Always provide the most helpful and accurate answer using only the contextual text provided. Do not add any information that is not in the context.\n",
    "\n",
    "Guidelines:\n",
    "\n",
    "1. **Relevance**: Only answer questions based on the provided context. Do not use outside knowledge.\n",
    "2. **Honesty**: If a question does not make sense or is factually incoherent, explain why instead of providing incorrect information.\n",
    "3. **Integrity**: If you don't know the answer based on the context, do not share false information.\n",
    "4. **Scope**: If the question is outside the context, inform the user politely that it cannot be answered accurately.\n",
    "5. **Clarity**: Ensure your answers are clear and concise, avoiding ambiguity or vagueness.\n",
    "6. **Finality**: Answer the question directly and do not include any additional text after the answer.\n",
    "\n",
    "Ensure that your answers are clear and concise, avoiding ambiguity or vague responses.\"\"\"\n",
    "\n",
    "instruction = \"\"\"CONTEXT:/n/n {context}/n\n",
    "\n",
    "Question: {question}\"\"\"\n",
    "\n",
    "prompt_template = get_prompt(instruction, sys_prompt)\n",
    "llama_prompt = PromptTemplate(\n",
    "    template=prompt_template, input_variables=[\"context\", \"question\"]\n",
    ")\n",
    "chain_type_kwargs = {\"prompt\": llama_prompt}"
   ]
  },
  {
   "cell_type": "code",
   "execution_count": 11,
   "metadata": {},
   "outputs": [],
   "source": [
    "llm = ChatOpenAI(\n",
    "    openai_api_key=OPENAI_API_KEY,\n",
    "    model_name=\"gpt-3.5-turbo\",\n",
    "    temperature=0.0\n",
    ")\n",
    "\n",
    "retriever = docsearch.as_retriever(search_kwargs={\"k\": 3})\n",
    "\n",
    "qa_chain = RetrievalQA.from_chain_type(llm=llm,\n",
    "                                    chain_type=\"stuff\",\n",
    "                                    retriever=retriever,\n",
    "                                    return_source_documents=True,\n",
    "                                    chain_type_kwargs=chain_type_kwargs)"
   ]
  },
  {
   "cell_type": "code",
   "execution_count": 12,
   "metadata": {},
   "outputs": [],
   "source": [
    "def process_llm_response(llm_response):\n",
    "    print(llm_response['result'])\n",
    "    print('\\n\\nFuentes:')\n",
    "    for source in llm_response[\"source_documents\"]:\n",
    "        # Acceder a la metadata para obtener la página\n",
    "        page_number = source.metadata['page']\n",
    "        print(f\"Fuente: {source.metadata['source']}, Pagina: {page_number}\")"
   ]
  },
  {
   "cell_type": "code",
   "execution_count": 14,
   "metadata": {},
   "outputs": [
    {
     "name": "stdout",
     "output_type": "stream",
     "text": [
      "La Primera Guerra Mundial fue un conflicto que supuso un cambio en la forma de combatir y en el pensamiento del mundo moderno. Se caracterizó por el uso de nuevas tecnologías como bombas aéreas, sistemas de detección y destrucción, y gases venenosos, entre otros. Alemania fue uno de los países involucrados y resultó devastada al finalizar la guerra, siendo obligada a aceptar las condiciones impuestas por los vencedores en el tratado de Versalles.\n",
      "\n",
      "\n",
      "Fuentes:\n",
      "Fuente: historia.pdf, Pagina: 0.0\n",
      "Fuente: historia.pdf, Pagina: 0.0\n",
      "Fuente: historia.pdf, Pagina: 1.0\n"
     ]
    }
   ],
   "source": [
    "query1 = \"Que es la primera guerra mundial?\"\n",
    "\n",
    "respoonse = qa_chain.invoke(query1)\n",
    "process_llm_response(respoonse)"
   ]
  }
 ],
 "metadata": {
  "kernelspec": {
   "display_name": "Python 3",
   "language": "python",
   "name": "python3"
  },
  "language_info": {
   "codemirror_mode": {
    "name": "ipython",
    "version": 3
   },
   "file_extension": ".py",
   "mimetype": "text/x-python",
   "name": "python",
   "nbconvert_exporter": "python",
   "pygments_lexer": "ipython3",
   "version": "3.12.4"
  }
 },
 "nbformat": 4,
 "nbformat_minor": 2
}
